{
  "nbformat": 4,
  "nbformat_minor": 0,
  "metadata": {
    "colab": {
      "name": "02-518/02-718 HW 2 Template.ipynb",
      "provenance": []
    },
    "kernelspec": {
      "name": "python3",
      "display_name": "Python 3"
    }
  },
  "cells": [
    {
      "cell_type": "code",
      "metadata": {
        "id": "Cs8nL5H6aejY",
        "colab_type": "code",
        "colab": {}
      },
      "source": [
        "import numpy as np \n",
        "import pandas as pd\n",
        "import seaborn as sns\n",
        "\n",
        "'''\n",
        " TIP: 1. Research and import desired feature selection methods from https://scikit-learn.org/stable/modules/classes.html#module-sklearn.feature_selection\n",
        "      2. For k-fold cross validation, consider https://scikit-learn.org/stable/modules/generated/sklearn.model_selection.KFold.html \n",
        "                                        and/or https://scikit-learn.org/stable/modules/generated/sklearn.model_selection.cross_validate.html#sklearn.model_selection.cross_validate\n",
        "      3. Research and import desired classification algorithms from https://scikit-learn.org/stable/supervised_learning.html\n",
        "      4. Research and import desired clustering algorithms from https://scikit-learn.org/stable/modules/clustering.html\n",
        "'''"
      ],
      "execution_count": null,
      "outputs": []
    },
    {
      "cell_type": "markdown",
      "metadata": {
        "id": "vr0rAS9fayqV",
        "colab_type": "text"
      },
      "source": [
        "# Instructions\n",
        "\n",
        "For each question, a rough outline has been provided to help you get started under \"Part 1.x.x: Work\". Feel free to either follow the outline or use your own method for solving the problem. In either case, however, please make sure to include your work in these sections and fill in your answer in the cell titled \"Part 1.x.x: Answer\".\n",
        "\n",
        "**Embedding Images in the Notebook**\n",
        "\n",
        "To upload an image in a markdown cell in Jupyter Notebook:\n",
        "1. Go to the menu bar and select Edit -> Insert Image.\n",
        "\n",
        "2. Select image from your disk and upload.\n",
        "\n",
        "3. Press Ctrl+Enter or Shift+Enter.\n",
        "\n",
        "This will make the image as part of the notebook and you don't need to upload it in the directory\n",
        "\n",
        "**Export Jupyter Notebooks**  \n",
        "In your local computer, open the notebook you would like to export and navigate to 'File' at the top menu bar. By clickling 'File', you can find 'Download as' in the drop-down menu. Select the format you want to export the notebook as: either directly as a pdf, or if you download it as an html file, use a website like [html2pdf.com](https://html2pdf.com) to convert it to a pdf file for submission on Gradescope.\n",
        "\n",
        "Colab does not seem to support exporting their notebooks to other formats, so if you choose to use Colab, you will need to download the notebook as an .ipynb file before following the steps above on your local machine."
      ]
    },
    {
      "cell_type": "markdown",
      "metadata": {
        "id": "LcsbfHdddGf8",
        "colab_type": "text"
      },
      "source": [
        "# Question 1"
      ]
    },
    {
      "cell_type": "markdown",
      "metadata": {
        "id": "n7Kljl7JdPsB",
        "colab_type": "text"
      },
      "source": [
        "### Read Data"
      ]
    },
    {
      "cell_type": "code",
      "metadata": {
        "id": "591CSvGJdRJ1",
        "colab_type": "code",
        "colab": {}
      },
      "source": [
        "PATH_TO_Q1_DATA = 'HW2_Q1_DATA.csv' #TODO: Change if your path to data is different\n",
        "df = pd.read_csv(PATH_TO_Q1_DATA)"
      ],
      "execution_count": null,
      "outputs": []
    },
    {
      "cell_type": "markdown",
      "metadata": {
        "id": "YraonsAGdhor",
        "colab_type": "text"
      },
      "source": [
        "## Part 1.1: Filter-based Feature Selection"
      ]
    },
    {
      "cell_type": "markdown",
      "metadata": {
        "id": "Z7gLKzIwdrEb",
        "colab_type": "text"
      },
      "source": [
        "### Part 1.1.1: Work"
      ]
    },
    {
      "cell_type": "code",
      "metadata": {
        "id": "G9-C8RSmdnwd",
        "colab_type": "code",
        "colab": {}
      },
      "source": [
        "'''\n",
        "TODO: Apply a filter-based feature selection method of your choice using 10-fold cross validation \n",
        "      and use the results to choose the top 20 features\n",
        "\n",
        "TIP: Scikit-learn provides implementations of many useful statistical measures.\n",
        "\n",
        "      Pearson’s Correlation Coefficient: f_regression()\n",
        "      ANOVA: f_classif()\n",
        "      Chi-Squared: chi2()\n",
        "      Mutual Information: mutual_info_classif() and mutual_info_regression()\n",
        "\n",
        "     Also, SciPy provides implementations of many more statistics, such as\n",
        "     Kendall’s tau (kendalltau) and Spearman’s rank correlation (spearmanr).\n",
        "'''"
      ],
      "execution_count": null,
      "outputs": []
    },
    {
      "cell_type": "markdown",
      "metadata": {
        "id": "g80xDpM80UFQ",
        "colab_type": "text"
      },
      "source": [
        "### Part 1.1.1: Answer\n",
        "\n",
        "List the top 20 features you found: **YOUR ANSWER HERE**"
      ]
    },
    {
      "cell_type": "markdown",
      "metadata": {
        "id": "mtfRTOXz1Gt1",
        "colab_type": "text"
      },
      "source": [
        "### Part 1.1.2: Work"
      ]
    },
    {
      "cell_type": "code",
      "metadata": {
        "id": "XIpEJ3OxzwmX",
        "colab_type": "code",
        "colab": {}
      },
      "source": [
        "'''\n",
        "TODO: Create and plot a 20 x 20 correlation heat map using your features from part 1.1.1\n",
        "\n",
        "TIP: 1. Pandas has a correlation functionality for dataframes\n",
        "        https://pandas.pydata.org/pandas-docs/stable/reference/api/pandas.DataFrame.corr.html\n",
        "     2. Seaborn has a heatmap functionality\n",
        "        https://seaborn.pydata.org/generated/seaborn.heatmap.html\n",
        "'''"
      ],
      "execution_count": null,
      "outputs": []
    },
    {
      "cell_type": "markdown",
      "metadata": {
        "id": "0vhKTeVF3dyb",
        "colab_type": "text"
      },
      "source": [
        "### Part 1.1.2: Answer\n",
        "\n",
        "**Plot the heatmap in one of the above cells or embed it as an image in this cell**\n",
        "\n",
        "What is the average of the values in the heatmap? **YOUR ANSWER HERE**\n"
      ]
    },
    {
      "cell_type": "markdown",
      "metadata": {
        "id": "qnIvvex64Hy5",
        "colab_type": "text"
      },
      "source": [
        "### Part 1.1.3: Work"
      ]
    },
    {
      "cell_type": "code",
      "metadata": {
        "id": "_2J6Rt_y3bxO",
        "colab_type": "code",
        "colab": {}
      },
      "source": [
        "'''\n",
        "TODO: Train a classifier using your top 1, top 2, ..., top 20 features from part 1.1.1\n",
        "      and plot the 10-fold cross-validated accuracy as a function of the number of features\n",
        "\n",
        "TIP: 1. scikit-learn has a great collection of classifiers: https://scikit-learn.org/stable/auto_examples/classification/plot_classifier_comparison.html\n",
        "     2. scikit-learn also supports different ways of cross-validation: https://scikit-learn.org/stable/modules/cross_validation.html#cross-validation-iterators\n",
        "'''"
      ],
      "execution_count": null,
      "outputs": []
    },
    {
      "cell_type": "markdown",
      "metadata": {
        "id": "iAEcgInB6C_s",
        "colab_type": "text"
      },
      "source": [
        "### Part 1.1.3: Answer\n",
        "\n",
        "**Include the plot as the output of one of the above cells or embed it as an image in this cell**"
      ]
    },
    {
      "cell_type": "markdown",
      "metadata": {
        "id": "36OavcuX6SJY",
        "colab_type": "text"
      },
      "source": [
        "### Part 1.1.4: Work"
      ]
    },
    {
      "cell_type": "code",
      "metadata": {
        "id": "U53Y5qf-6wmf",
        "colab_type": "code",
        "colab": {}
      },
      "source": [
        "'''\n",
        "TODO: 1. Devise a method for determining a threshold that can be used so separate\n",
        "         truly relevant features from those that are spurious\n",
        "      2. Apply this method to the data to obtain a new set of features\n",
        "      3. Re-train a classifier with the new features using 10-fold cross validation\n",
        "'''"
      ],
      "execution_count": null,
      "outputs": []
    },
    {
      "cell_type": "markdown",
      "metadata": {
        "id": "kdOdmAzK6wDC",
        "colab_type": "text"
      },
      "source": [
        "### Part 1.1.4: Answer\n",
        "\n",
        "Briefly describe the method you devised for determinining a threshold for truly relevant features: **YOUR EXPLANATION HERE**\n",
        "\n",
        "List the new set of features obtained from applying your method to the data: **YOUR ANSWER HERE**\n",
        "\n",
        "What was the 10-fold cross-validated accuracy of the classifier trained with these new features? **YOUR ANSWER HERE**"
      ]
    },
    {
      "cell_type": "markdown",
      "metadata": {
        "id": "Hwq6PMbR8Ffa",
        "colab_type": "text"
      },
      "source": [
        "### Part 1.1.5: Work"
      ]
    },
    {
      "cell_type": "code",
      "metadata": {
        "id": "oHF7wT-O7-jO",
        "colab_type": "code",
        "colab": {}
      },
      "source": [
        "'''\n",
        "TODO: 1. Use a clustering algorithm of your choice to cluster\n",
        "         the features you found in part 1.1.4 into 10 clusters\n",
        "      2. Choose a representative feature from each cluster and\n",
        "         train a classifier with these features using 10-fold\n",
        "         cross validation\n",
        "'''"
      ],
      "execution_count": null,
      "outputs": []
    },
    {
      "cell_type": "markdown",
      "metadata": {
        "id": "t-tene4Z8_I9",
        "colab_type": "text"
      },
      "source": [
        "### Part 1.1.5: Answer\n",
        "\n",
        "List the representative features you chose from the 10 clusters: **YOUR ANSWER HERE**\n",
        "\n",
        "What was the 10-fold cross-validated accuracy of the classifier trained with these representative features? **YOUR ANSWER HERE**"
      ]
    },
    {
      "cell_type": "markdown",
      "metadata": {
        "id": "-np5K83j9WBw",
        "colab_type": "text"
      },
      "source": [
        "## Part 1.2: Wrapper-based Feature Selection"
      ]
    },
    {
      "cell_type": "markdown",
      "metadata": {
        "id": "jRpq-D719YMH",
        "colab_type": "text"
      },
      "source": [
        "### Part 1.2.1: Work"
      ]
    },
    {
      "cell_type": "code",
      "metadata": {
        "id": "MbC1tQGP9Psa",
        "colab_type": "code",
        "colab": {}
      },
      "source": [
        "'''\n",
        "TODO: Apply a wrapper-based feature selection method of your choice to the data\n",
        "\n",
        "TIP: 1. Scikit learn has an implementation of recursive feature elimination (RFE)\n",
        "        https://scikit-learn.org/stable/modules/generated/sklearn.feature_selection.RFE.html\n",
        "     2. The mlxtend library has very thorough documentation and great options for sequential and exhaustive feature selection\n",
        "        http://rasbt.github.io/mlxtend/user_guide/feature_selection/SequentialFeatureSelector/\n",
        "        http://rasbt.github.io/mlxtend/user_guide/feature_selection/ExhaustiveFeatureSelector/\n",
        "'''"
      ],
      "execution_count": null,
      "outputs": []
    },
    {
      "cell_type": "markdown",
      "metadata": {
        "id": "JddzaAXu_OxA",
        "colab_type": "text"
      },
      "source": [
        "### Part 1.2.1: Answer\n",
        "\n",
        "List the top features selected in at least 8 out of 10 folds: **YOUR ANSWER HERE**"
      ]
    },
    {
      "cell_type": "markdown",
      "metadata": {
        "id": "pd-11SenK0c7",
        "colab_type": "text"
      },
      "source": [
        "### Part 1.2.2: Work\n"
      ]
    },
    {
      "cell_type": "code",
      "metadata": {
        "id": "jHI20iqrK4UG",
        "colab_type": "code",
        "colab": {}
      },
      "source": [
        "'''\n",
        "TODO: Create and plot a 20 x 20 correlation heat map using your features from part 1.2.1\n",
        "\n",
        "TIP: 1. Pandas has a correlation functionality for dataframes\n",
        "        https://pandas.pydata.org/pandas-docs/stable/reference/api/pandas.DataFrame.corr.html\n",
        "     2. Seaborn has a heatmap functionality\n",
        "        https://seaborn.pydata.org/generated/seaborn.heatmap.html\n",
        "'''"
      ],
      "execution_count": null,
      "outputs": []
    },
    {
      "cell_type": "markdown",
      "metadata": {
        "id": "9VxDClm0LCsm",
        "colab_type": "text"
      },
      "source": [
        "### Part 1.2.2: Answer\n",
        "\n",
        "**Plot the heatmap in one of the above cells or embed it as an image in this cell**\n",
        "\n",
        "What is the average of the values in the heatmap? **YOUR ANSWER HERE**"
      ]
    },
    {
      "cell_type": "markdown",
      "metadata": {
        "id": "8oh3A5XELh94",
        "colab_type": "text"
      },
      "source": [
        "### Part 1.2.3: Work"
      ]
    },
    {
      "cell_type": "code",
      "metadata": {
        "id": "FttFZVQtLPQK",
        "colab_type": "code",
        "colab": {}
      },
      "source": [
        "'''\n",
        "TODO: Train a classifier using your features from part 1.2.1 with 10-fold cross validation\n",
        "\n",
        "TIP: 1. scikit-learn has a great collection of classifiers: https://scikit-learn.org/stable/auto_examples/classification/plot_classifier_comparison.html\n",
        "     2. scikit-learn also supports different ways of cross-validation: https://scikit-learn.org/stable/modules/cross_validation.html#cross-validation-iterators\n",
        "'''"
      ],
      "execution_count": null,
      "outputs": []
    },
    {
      "cell_type": "markdown",
      "metadata": {
        "id": "xk97RmEML0yE",
        "colab_type": "text"
      },
      "source": [
        "### Part 1.2.3: Answer\n",
        "\n",
        "What was the 10-fold cross-validated accuracy of the classifier trained with these features? **YOUR ANSWER HERE**"
      ]
    },
    {
      "cell_type": "markdown",
      "metadata": {
        "id": "OqHKhkYOMAwW",
        "colab_type": "text"
      },
      "source": [
        "## Part 1.3: Embedded Feature Selection"
      ]
    },
    {
      "cell_type": "markdown",
      "metadata": {
        "id": "FgLvWXaOMIbH",
        "colab_type": "text"
      },
      "source": [
        "### Part 1.3.1: Work"
      ]
    },
    {
      "cell_type": "code",
      "metadata": {
        "id": "i4sMCTw-MQ98",
        "colab_type": "code",
        "colab": {}
      },
      "source": [
        "'''\n",
        "TODO: Apply an embedded feature selection method of your choice using 10-fold cross validation\n",
        "\n",
        "TIP: 1. See https://scikit-learn.org/stable/modules/classes.html#module-sklearn.tree \n",
        "        and/or https://scikit-learn.org/stable/modules/classes.html#module-sklearn.ensemble\n",
        "        for tree based methods\n",
        "     2. Check out the SelectFromModel functionality from \n",
        "        https://scikit-learn.org/stable/modules/generated/sklearn.feature_selection.SelectFromModel.html \n",
        "'''"
      ],
      "execution_count": null,
      "outputs": []
    },
    {
      "cell_type": "markdown",
      "metadata": {
        "id": "aQNp1iEWOziu",
        "colab_type": "text"
      },
      "source": [
        "### Part 1.3.1: Answer\n",
        "\n",
        "List the top features selected in at least 8 out of 10 folds: **YOUR ANSWER HERE**"
      ]
    },
    {
      "cell_type": "markdown",
      "metadata": {
        "id": "7wOHLVUhO5nd",
        "colab_type": "text"
      },
      "source": [
        "### Part 1.3.2: Work"
      ]
    },
    {
      "cell_type": "code",
      "metadata": {
        "id": "e1mNZU2jO-T5",
        "colab_type": "code",
        "colab": {}
      },
      "source": [
        "'''\n",
        "TODO: Create and plot a 20 x 20 correlation heat map using your features from part 1.3.1\n",
        "\n",
        "TIP: 1. Pandas has a correlation functionality for dataframes\n",
        "        https://pandas.pydata.org/pandas-docs/stable/reference/api/pandas.DataFrame.corr.html\n",
        "     2. Seaborn has a heatmap functionality\n",
        "        https://seaborn.pydata.org/generated/seaborn.heatmap.html\n",
        "'''"
      ],
      "execution_count": null,
      "outputs": []
    },
    {
      "cell_type": "markdown",
      "metadata": {
        "id": "6keJov7lPEt8",
        "colab_type": "text"
      },
      "source": [
        "### Part 1.3.2: Answer\n",
        "\n",
        "**Plot the heatmap in one of the above cells or embed it as an image in this cell**\n",
        "\n",
        "What is the average of the values in the heatmap? **YOUR ANSWER HERE**"
      ]
    },
    {
      "cell_type": "markdown",
      "metadata": {
        "id": "d8_sk7R_PHVZ",
        "colab_type": "text"
      },
      "source": [
        "### Part 1.3.3: Work"
      ]
    },
    {
      "cell_type": "code",
      "metadata": {
        "id": "D2xbbNARPLgb",
        "colab_type": "code",
        "colab": {}
      },
      "source": [
        "'''\n",
        "TODO: Train a classifier using your features from part 1.3.1 with 10-fold cross validation\n",
        "\n",
        "TIP: 1. scikit-learn has a great collection of classifiers: https://scikit-learn.org/stable/auto_examples/classification/plot_classifier_comparison.html\n",
        "     2. scikit-learn also supports different ways of cross-validation: https://scikit-learn.org/stable/modules/cross_validation.html#cross-validation-iterators\n",
        "'''"
      ],
      "execution_count": null,
      "outputs": []
    },
    {
      "cell_type": "markdown",
      "metadata": {
        "id": "v6jcKGtwPAxG",
        "colab_type": "text"
      },
      "source": [
        "### Part 1.3.3: Answer\n",
        "\n",
        "What was the 10-fold cross-validated accuracy of the classifier trained with these features? **YOUR ANSWER HERE**"
      ]
    }
  ]
}